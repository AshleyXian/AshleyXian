{
 "cells": [
  {
   "cell_type": "markdown",
   "metadata": {},
   "source": [
    "## Object Oriented Programming (OOP)"
   ]
  },
  {
   "cell_type": "markdown",
   "metadata": {},
   "source": [
    "#### Classes"
   ]
  },
  {
   "cell_type": "code",
   "execution_count": 1,
   "metadata": {},
   "outputs": [
    {
     "data": {
      "text/plain": [
       "<__main__.Car at 0x10385a910>"
      ]
     },
     "execution_count": 1,
     "metadata": {},
     "output_type": "execute_result"
    }
   ],
   "source": [
    "class Car:    \n",
    "    def go(self):  # \"go\" is a functional attribute (it's a method)\n",
    "        print('Driving forward...')\n",
    "        return 'Traveled X kilometers'  # methods can return values just like regular functions.\n",
    "\n",
    "c = Car()  # instantiate object of class\n",
    "c"
   ]
  },
  {
   "cell_type": "code",
   "execution_count": 2,
   "metadata": {},
   "outputs": [
    {
     "data": {
      "text/plain": [
       "<bound method Car.go of <__main__.Car object at 0x10385a910>>"
      ]
     },
     "execution_count": 2,
     "metadata": {},
     "output_type": "execute_result"
    }
   ],
   "source": [
    "c.go  # call method"
   ]
  },
  {
   "cell_type": "code",
   "execution_count": 3,
   "metadata": {},
   "outputs": [
    {
     "name": "stdout",
     "output_type": "stream",
     "text": [
      "Driving forward...\n"
     ]
    },
    {
     "data": {
      "text/plain": [
       "'Traveled X kilometers'"
      ]
     },
     "execution_count": 3,
     "metadata": {},
     "output_type": "execute_result"
    }
   ],
   "source": [
    "c.go()  # call method"
   ]
  },
  {
   "cell_type": "code",
   "execution_count": 5,
   "metadata": {},
   "outputs": [
    {
     "name": "stdout",
     "output_type": "stream",
     "text": [
      "The id of self is 4538429584\n",
      "The id of c is    4538429584\n"
     ]
    }
   ],
   "source": [
    "# ids of c and of self are the same, same object in memory\n",
    "class Car:\n",
    "    def what_is_my_id_based_on_self(self):\n",
    "        print(f'The id of self is {id(self)}')\n",
    "\n",
    "c = Car()\n",
    "c.what_is_my_id_based_on_self()\n",
    "print(f'The id of c is    {id(c)}')"
   ]
  },
  {
   "cell_type": "code",
   "execution_count": 6,
   "metadata": {},
   "outputs": [
    {
     "name": "stdout",
     "output_type": "stream",
     "text": [
      "The id of d is    4538431696\n",
      "The id of self is 4538431696\n",
      "\n",
      "The id of e is    4538432400\n",
      "The id of self is 4538432400\n"
     ]
    }
   ],
   "source": [
    "d = Car()\n",
    "print(f'The id of d is    {id(d)}')\n",
    "d.what_is_my_id_based_on_self()\n",
    "\n",
    "print()\n",
    "\n",
    "e = Car()\n",
    "print(f'The id of e is    {id(e)}')\n",
    "e.what_is_my_id_based_on_self()"
   ]
  },
  {
   "cell_type": "code",
   "execution_count": 9,
   "metadata": {},
   "outputs": [],
   "source": [
    "class Person:\n",
    "    def __init__(self, name):\n",
    "        self.name = name\n",
    "    \n",
    "    def speak(self):\n",
    "        return f'Hi my name is {self.name}'\n",
    "\n",
    "p = Person('Paul')\n",
    "\n",
    "# p._Person__name # raise some error"
   ]
  },
  {
   "cell_type": "code",
   "execution_count": 10,
   "metadata": {},
   "outputs": [
    {
     "data": {
      "text/plain": [
       "'Hi my name is Paul'"
      ]
     },
     "execution_count": 10,
     "metadata": {},
     "output_type": "execute_result"
    }
   ],
   "source": [
    "p.speak()"
   ]
  },
  {
   "cell_type": "code",
   "execution_count": 9,
   "metadata": {},
   "outputs": [
    {
     "name": "stdout",
     "output_type": "stream",
     "text": [
      "10\n",
      "Driving 4 gas units of distance. 6 units left in tank.\n",
      "Driving 4 gas units of distance. 2 units left in tank.\n",
      "Driving 4 gas units of distance. -2 units left in tank.\n",
      "Driving 4 gas units of distance. -6 units left in tank.\n"
     ]
    }
   ],
   "source": [
    "class Car:\n",
    "    def __init__(self, gas):  # the magic method called when instantiating a new object\n",
    "        self.gas = gas  # \"gas\" is a data attribute\n",
    "\n",
    "    def go(self, gas):\n",
    "        self.gas = self.gas - gas\n",
    "        print(f'Driving {gas} gas units of distance. {self.gas} units left in tank.')\n",
    "        \n",
    "\n",
    "c = Car(10)  # magic metheod called, gas set to 10\n",
    "print(c.gas)\n",
    "\n",
    "c.go(4)  # spend gas\n",
    "c.go(4)  # spend gas"
   ]
  },
  {
   "cell_type": "code",
   "execution_count": null,
   "metadata": {},
   "outputs": [],
   "source": [
    "class BankAccount:\n",
    "\n",
    "    def deposit(self, money):\n",
    "        self.balance = money\n",
    "        \n",
    "    def withdraw(self, money):\n",
    "        self.balance = money"
   ]
  },
  {
   "cell_type": "code",
   "execution_count": null,
   "metadata": {},
   "outputs": [],
   "source": [
    "b = BankAccount()\n",
    "b.deposit(10)  \n",
    "print(b.balance)\n",
    "\n",
    "b.withdraw(5)\n",
    "b.balance # oops"
   ]
  },
  {
   "cell_type": "code",
   "execution_count": 18,
   "metadata": {},
   "outputs": [],
   "source": [
    "class BankAccount:\n",
    "    def __init__(self, init_balance):\n",
    "        self.balance = init_balance  # or could be 0 if we didn't want to take an initial balance\n",
    "    \n",
    "    def deposit(self, money):\n",
    "        self.balance += money\n",
    "        \n",
    "    def withdraw(self, money):\n",
    "        self.balance -= money"
   ]
  },
  {
   "cell_type": "code",
   "execution_count": 19,
   "metadata": {},
   "outputs": [
    {
     "name": "stdout",
     "output_type": "stream",
     "text": [
      "20\n"
     ]
    },
    {
     "data": {
      "text/plain": [
       "15"
      ]
     },
     "execution_count": 19,
     "metadata": {},
     "output_type": "execute_result"
    }
   ],
   "source": [
    "b = BankAccount(10)\n",
    "b.deposit(10)\n",
    "print(b.balance)\n",
    "\n",
    "b.withdraw(5)\n",
    "b.balance"
   ]
  },
  {
   "cell_type": "code",
   "execution_count": 16,
   "metadata": {},
   "outputs": [],
   "source": [
    "class BankAccount:\n",
    "    def __init__(self, init_balance):\n",
    "        self.set_balance(init_balance)\n",
    "        \n",
    "    def get_balance(self):\n",
    "        return self.balance\n",
    "    \n",
    "    def set_balance(self, amount):\n",
    "        if amount < 0:\n",
    "            raise ValueError('Too low!')\n",
    "\n",
    "        self.balance = amount\n",
    "        \n",
    "    def deposit(self, money):        \n",
    "        self.set_balance(self.get_balance() + money)\n",
    "        \n",
    "    def withdraw(self, money):\n",
    "        self.set_balance(self.get_balance() - money)"
   ]
  },
  {
   "cell_type": "code",
   "execution_count": 17,
   "metadata": {},
   "outputs": [
    {
     "name": "stdout",
     "output_type": "stream",
     "text": [
      "20\n",
      "20\n"
     ]
    }
   ],
   "source": [
    "b = BankAccount(10)\n",
    "b.deposit(10)\n",
    "\n",
    "print(b.balance)\n",
    "print(b.get_balance())"
   ]
  },
  {
   "cell_type": "code",
   "execution_count": 18,
   "metadata": {},
   "outputs": [
    {
     "data": {
      "text/plain": [
       "5"
      ]
     },
     "execution_count": 18,
     "metadata": {},
     "output_type": "execute_result"
    }
   ],
   "source": [
    "b.withdraw(15)\n",
    "b.get_balance()"
   ]
  },
  {
   "cell_type": "code",
   "execution_count": 19,
   "metadata": {},
   "outputs": [
    {
     "ename": "ValueError",
     "evalue": "Too low!",
     "output_type": "error",
     "traceback": [
      "\u001b[0;31m---------------------------------------------------------------------------\u001b[0m",
      "\u001b[0;31mValueError\u001b[0m                                Traceback (most recent call last)",
      "\u001b[0;32m<ipython-input-19-5fbc599512be>\u001b[0m in \u001b[0;36m<module>\u001b[0;34m\u001b[0m\n\u001b[0;32m----> 1\u001b[0;31m \u001b[0mb\u001b[0m\u001b[0;34m.\u001b[0m\u001b[0mwithdraw\u001b[0m\u001b[0;34m(\u001b[0m\u001b[0;36m10\u001b[0m\u001b[0;34m)\u001b[0m\u001b[0;34m\u001b[0m\u001b[0;34m\u001b[0m\u001b[0m\n\u001b[0m\u001b[1;32m      2\u001b[0m \u001b[0mb\u001b[0m\u001b[0;34m.\u001b[0m\u001b[0mget_balance\u001b[0m\u001b[0;34m(\u001b[0m\u001b[0;34m)\u001b[0m\u001b[0;34m\u001b[0m\u001b[0;34m\u001b[0m\u001b[0m\n",
      "\u001b[0;32m<ipython-input-16-eeaba07405ec>\u001b[0m in \u001b[0;36mwithdraw\u001b[0;34m(self, money)\u001b[0m\n\u001b[1;32m     16\u001b[0m \u001b[0;34m\u001b[0m\u001b[0m\n\u001b[1;32m     17\u001b[0m     \u001b[0;32mdef\u001b[0m \u001b[0mwithdraw\u001b[0m\u001b[0;34m(\u001b[0m\u001b[0mself\u001b[0m\u001b[0;34m,\u001b[0m \u001b[0mmoney\u001b[0m\u001b[0;34m)\u001b[0m\u001b[0;34m:\u001b[0m\u001b[0;34m\u001b[0m\u001b[0;34m\u001b[0m\u001b[0m\n\u001b[0;32m---> 18\u001b[0;31m         \u001b[0mself\u001b[0m\u001b[0;34m.\u001b[0m\u001b[0mset_balance\u001b[0m\u001b[0;34m(\u001b[0m\u001b[0mself\u001b[0m\u001b[0;34m.\u001b[0m\u001b[0mget_balance\u001b[0m\u001b[0;34m(\u001b[0m\u001b[0;34m)\u001b[0m \u001b[0;34m-\u001b[0m \u001b[0mmoney\u001b[0m\u001b[0;34m)\u001b[0m\u001b[0;34m\u001b[0m\u001b[0;34m\u001b[0m\u001b[0m\n\u001b[0m",
      "\u001b[0;32m<ipython-input-16-eeaba07405ec>\u001b[0m in \u001b[0;36mset_balance\u001b[0;34m(self, amount)\u001b[0m\n\u001b[1;32m      8\u001b[0m     \u001b[0;32mdef\u001b[0m \u001b[0mset_balance\u001b[0m\u001b[0;34m(\u001b[0m\u001b[0mself\u001b[0m\u001b[0;34m,\u001b[0m \u001b[0mamount\u001b[0m\u001b[0;34m)\u001b[0m\u001b[0;34m:\u001b[0m\u001b[0;34m\u001b[0m\u001b[0;34m\u001b[0m\u001b[0m\n\u001b[1;32m      9\u001b[0m         \u001b[0;32mif\u001b[0m \u001b[0mamount\u001b[0m \u001b[0;34m<\u001b[0m \u001b[0;36m0\u001b[0m\u001b[0;34m:\u001b[0m\u001b[0;34m\u001b[0m\u001b[0;34m\u001b[0m\u001b[0m\n\u001b[0;32m---> 10\u001b[0;31m             \u001b[0;32mraise\u001b[0m \u001b[0mValueError\u001b[0m\u001b[0;34m(\u001b[0m\u001b[0;34m'Too low!'\u001b[0m\u001b[0;34m)\u001b[0m\u001b[0;34m\u001b[0m\u001b[0;34m\u001b[0m\u001b[0m\n\u001b[0m\u001b[1;32m     11\u001b[0m \u001b[0;34m\u001b[0m\u001b[0m\n\u001b[1;32m     12\u001b[0m         \u001b[0mself\u001b[0m\u001b[0;34m.\u001b[0m\u001b[0mbalance\u001b[0m \u001b[0;34m=\u001b[0m \u001b[0mamount\u001b[0m\u001b[0;34m\u001b[0m\u001b[0;34m\u001b[0m\u001b[0m\n",
      "\u001b[0;31mValueError\u001b[0m: Too low!"
     ]
    }
   ],
   "source": [
    "b.withdraw(10)\n",
    "b.get_balance()"
   ]
  },
  {
   "cell_type": "code",
   "execution_count": 20,
   "metadata": {},
   "outputs": [],
   "source": [
    "def my_sum(x, y):\n",
    "    return x + y"
   ]
  },
  {
   "cell_type": "code",
   "execution_count": 21,
   "metadata": {},
   "outputs": [
    {
     "data": {
      "text/plain": [
       "3"
      ]
     },
     "execution_count": 21,
     "metadata": {},
     "output_type": "execute_result"
    }
   ],
   "source": [
    "my_sum(1, 2)"
   ]
  },
  {
   "cell_type": "code",
   "execution_count": 22,
   "metadata": {},
   "outputs": [],
   "source": [
    "def add_one(x, y):\n",
    "    return my_sum(x, y) + 1"
   ]
  },
  {
   "cell_type": "code",
   "execution_count": 24,
   "metadata": {},
   "outputs": [
    {
     "data": {
      "text/plain": [
       "4"
      ]
     },
     "execution_count": 24,
     "metadata": {},
     "output_type": "execute_result"
    }
   ],
   "source": [
    "add_one(1, 2)"
   ]
  },
  {
   "cell_type": "code",
   "execution_count": 25,
   "metadata": {},
   "outputs": [],
   "source": [
    "def add_one(x, y):\n",
    "    def my_sum(x, y):\n",
    "        return x + y\n",
    "    return my_sum(x, y) + 1"
   ]
  },
  {
   "cell_type": "code",
   "execution_count": 26,
   "metadata": {},
   "outputs": [
    {
     "data": {
      "text/plain": [
       "4"
      ]
     },
     "execution_count": 26,
     "metadata": {},
     "output_type": "execute_result"
    }
   ],
   "source": [
    "add_one(1, 2)"
   ]
  },
  {
   "cell_type": "code",
   "execution_count": null,
   "metadata": {},
   "outputs": [],
   "source": [
    "def add_one(func):\n",
    "    \n",
    "    return func() + 1\n",
    "\n",
    "add_one(1, 2)"
   ]
  },
  {
   "cell_type": "code",
   "execution_count": 31,
   "metadata": {},
   "outputs": [],
   "source": [
    "# Decorators\n",
    "def add_one(func):\n",
    "    def new_func(*args, **kwargs):\n",
    "        return func(*args, **kwargs) + 1\n",
    "    return new_func"
   ]
  },
  {
   "cell_type": "code",
   "execution_count": 29,
   "metadata": {},
   "outputs": [
    {
     "data": {
      "text/plain": [
       "3"
      ]
     },
     "execution_count": 29,
     "metadata": {},
     "output_type": "execute_result"
    }
   ],
   "source": [
    "my_sum(1, 2)"
   ]
  },
  {
   "cell_type": "code",
   "execution_count": 33,
   "metadata": {},
   "outputs": [
    {
     "data": {
      "text/plain": [
       "<function __main__.my_sum(x, y)>"
      ]
     },
     "execution_count": 33,
     "metadata": {},
     "output_type": "execute_result"
    }
   ],
   "source": [
    "my_sum"
   ]
  },
  {
   "cell_type": "code",
   "execution_count": 35,
   "metadata": {},
   "outputs": [],
   "source": [
    "def my_sum(x, y):\n",
    "    return x + y\n",
    "\n",
    "my_sum = add_one(add_three(add_two(add_one(add_one(my_sum)))))"
   ]
  },
  {
   "cell_type": "code",
   "execution_count": 36,
   "metadata": {},
   "outputs": [],
   "source": [
    "@add_one\n",
    "@add_three\n",
    "@add_two\n",
    "@add_one\n",
    "@add_one\n",
    "def my_sum(x, y):\n",
    "    return x + y"
   ]
  },
  {
   "cell_type": "code",
   "execution_count": 37,
   "metadata": {},
   "outputs": [],
   "source": [
    "@add_one\n",
    "def my_sum(x, y):\n",
    "    return x + y"
   ]
  },
  {
   "cell_type": "code",
   "execution_count": 38,
   "metadata": {},
   "outputs": [
    {
     "data": {
      "text/plain": [
       "7"
      ]
     },
     "execution_count": 38,
     "metadata": {},
     "output_type": "execute_result"
    }
   ],
   "source": [
    "my_sum(3, 3)"
   ]
  },
  {
   "cell_type": "code",
   "execution_count": 39,
   "metadata": {},
   "outputs": [
    {
     "name": "stdout",
     "output_type": "stream",
     "text": [
      "Entering add one\n",
      "Returning new func\n",
      "Entering new func definition and performing \"add 1\"\n",
      "Performing sum op\n"
     ]
    },
    {
     "data": {
      "text/plain": [
       "5"
      ]
     },
     "execution_count": 39,
     "metadata": {},
     "output_type": "execute_result"
    }
   ],
   "source": [
    "def add_one(func):\n",
    "    print('Entering add one')\n",
    "    def new_func(*args, **kwargs):\n",
    "        print('Entering new func definition and performing \"add 1\"')\n",
    "        return func(*args, **kwargs) + 1\n",
    "    print('Returning new func')\n",
    "    return new_func\n",
    "\n",
    "@add_one\n",
    "def my_sum(x, y):\n",
    "    print('Performing sum op')\n",
    "    return x + y\n",
    "\n",
    "my_sum(1, 3)"
   ]
  },
  {
   "cell_type": "code",
   "execution_count": 40,
   "metadata": {},
   "outputs": [
    {
     "data": {
      "text/plain": [
       "<function __main__.add_one(func)>"
      ]
     },
     "execution_count": 40,
     "metadata": {},
     "output_type": "execute_result"
    }
   ],
   "source": [
    "add_one"
   ]
  },
  {
   "cell_type": "code",
   "execution_count": 46,
   "metadata": {},
   "outputs": [],
   "source": [
    "class BankAccount:\n",
    "    def __init__(self, init_balance):\n",
    "        self._balance = init_balance  # Set of data attribute\n",
    "        \n",
    "    @property\n",
    "    def balance(self):\n",
    "        return self._balance\n",
    "    \n",
    "    @balance.setter\n",
    "    def balance(self, amount):  # Needs to be the same name as the getter method\n",
    "        if amount < 0:\n",
    "            raise ValueError('Too low!')\n",
    "        self._balance = amount\n",
    "\n",
    "    def deposit(self, money):\n",
    "        self.balance = self.balance + money\n",
    "        \n",
    "    def withdraw(self, money):\n",
    "        self.balance -= money"
   ]
  },
  {
   "cell_type": "code",
   "execution_count": 47,
   "metadata": {},
   "outputs": [],
   "source": [
    "b = BankAccount(10)\n",
    "b.deposit(10)"
   ]
  },
  {
   "cell_type": "code",
   "execution_count": 43,
   "metadata": {},
   "outputs": [
    {
     "data": {
      "text/plain": [
       "20"
      ]
     },
     "execution_count": 43,
     "metadata": {},
     "output_type": "execute_result"
    }
   ],
   "source": [
    "b.balance"
   ]
  },
  {
   "cell_type": "code",
   "execution_count": 48,
   "metadata": {},
   "outputs": [],
   "source": [
    "# could set gas to be a negative number :/\n",
    "class Car:\n",
    "    def __init__(self, x):\n",
    "        self.gas = x\n",
    "\n",
    "    def go(self, x):\n",
    "        self.gas = self.gas - x\n",
    "        print(f'Driving {x} gas units of distance. {self.gas} units left in tank.')\n",
    "    \n",
    "    @property\n",
    "    def gas(self):\n",
    "        return self._gas\n",
    "    \n",
    "    @gas.setter\n",
    "    def gas(self, x):\n",
    "        # When setting the \".gas\" property, we'll check the value and then set the \"._gas\" property\n",
    "        if x < 0:\n",
    "            raise ValueError(f'Units of gas can not be negative ({x})')\n",
    "\n",
    "        # Save value to a private variable. People will not directly interact with this value.\n",
    "        self._gas = x\n",
    "    \n",
    "    def add_gas(self, x):  # Helper method to add gas rather than simply set it.\n",
    "        self.gas = self.gas + x  # Other methods can use property"
   ]
  },
  {
   "cell_type": "code",
   "execution_count": 49,
   "metadata": {},
   "outputs": [
    {
     "name": "stdout",
     "output_type": "stream",
     "text": [
      "Driving 4 gas units of distance. 6 units left in tank.\n"
     ]
    }
   ],
   "source": [
    "c = Car(10)  # create car with gas\n",
    "c.go(4)  # drive a bit"
   ]
  },
  {
   "cell_type": "code",
   "execution_count": 50,
   "metadata": {},
   "outputs": [
    {
     "data": {
      "text/plain": [
       "20"
      ]
     },
     "execution_count": 50,
     "metadata": {},
     "output_type": "execute_result"
    }
   ],
   "source": [
    "c.add_gas(14)  # fuel up\n",
    "c.gas  # check gas guage"
   ]
  },
  {
   "cell_type": "code",
   "execution_count": null,
   "metadata": {},
   "outputs": [],
   "source": [
    "c = Car(10)\n",
    "c.gas()  # Don't need to do this!\n",
    "# properties make methods look like data attributes"
   ]
  },
  {
   "cell_type": "code",
   "execution_count": 51,
   "metadata": {},
   "outputs": [
    {
     "data": {
      "text/plain": [
       "10"
      ]
     },
     "execution_count": 51,
     "metadata": {},
     "output_type": "execute_result"
    }
   ],
   "source": [
    "c = Car(10)\n",
    "c.gas  # Don't need to do this!"
   ]
  },
  {
   "cell_type": "code",
   "execution_count": 52,
   "metadata": {},
   "outputs": [
    {
     "data": {
      "text/plain": [
       "['__class__',\n",
       " '__delattr__',\n",
       " '__dict__',\n",
       " '__dir__',\n",
       " '__doc__',\n",
       " '__eq__',\n",
       " '__format__',\n",
       " '__ge__',\n",
       " '__getattribute__',\n",
       " '__gt__',\n",
       " '__hash__',\n",
       " '__init__',\n",
       " '__init_subclass__',\n",
       " '__le__',\n",
       " '__lt__',\n",
       " '__module__',\n",
       " '__ne__',\n",
       " '__new__',\n",
       " '__reduce__',\n",
       " '__reduce_ex__',\n",
       " '__repr__',\n",
       " '__setattr__',\n",
       " '__sizeof__',\n",
       " '__str__',\n",
       " '__subclasshook__',\n",
       " '__weakref__',\n",
       " '_gas',\n",
       " 'add_gas',\n",
       " 'gas',\n",
       " 'go']"
      ]
     },
     "execution_count": 52,
     "metadata": {},
     "output_type": "execute_result"
    }
   ],
   "source": [
    "dir(c)"
   ]
  },
  {
   "cell_type": "code",
   "execution_count": 53,
   "metadata": {},
   "outputs": [],
   "source": [
    "# One blueprint, many objects\n",
    "my_car = Car(10)\n",
    "your_car = Car(10)\n",
    "her_car = Car(10)\n",
    "his_car = Car(10)"
   ]
  },
  {
   "cell_type": "code",
   "execution_count": 54,
   "metadata": {},
   "outputs": [
    {
     "name": "stdout",
     "output_type": "stream",
     "text": [
      "Your car: 20\n",
      "My car: 10\n"
     ]
    }
   ],
   "source": [
    "# Objects will not share instance level state \n",
    "your_car.add_gas(10)\n",
    "print(f'Your car: {your_car.gas}')\n",
    "print(f'My car: {my_car.gas}')"
   ]
  },
  {
   "cell_type": "markdown",
   "metadata": {},
   "source": [
    "#### Class level attributes"
   ]
  },
  {
   "cell_type": "code",
   "execution_count": 55,
   "metadata": {},
   "outputs": [],
   "source": [
    "class Car:\n",
    "    doors = 4  # class level attribute (data attribute)\n",
    "\n",
    "    def __init__(self):  # class level attribute (functional attribute)\n",
    "        self.gas = 0  # instance level attribute (data attribute)\n",
    "    \n",
    "    # ...\n",
    "\n",
    "c1 = Car()  # create a few cars\n",
    "c2 = Car()\n",
    "c3 = Car()"
   ]
  },
  {
   "cell_type": "code",
   "execution_count": 56,
   "metadata": {},
   "outputs": [
    {
     "name": "stdout",
     "output_type": "stream",
     "text": [
      "c1: 4\n",
      "c2: 4\n",
      "c3: 4\n"
     ]
    }
   ],
   "source": [
    "# should have 4 doors\n",
    "print('c1:', c1.doors)\n",
    "print('c2:', c2.doors)\n",
    "print('c3:', c3.doors)"
   ]
  },
  {
   "cell_type": "code",
   "execution_count": 57,
   "metadata": {},
   "outputs": [],
   "source": [
    "Car.doors = 2  # change class level attribute and all instances change"
   ]
  },
  {
   "cell_type": "code",
   "execution_count": 58,
   "metadata": {},
   "outputs": [
    {
     "name": "stdout",
     "output_type": "stream",
     "text": [
      "c1: 2\n",
      "c2: 2\n",
      "c3: 2\n"
     ]
    }
   ],
   "source": [
    "print('c1:', c1.doors)\n",
    "print('c2:', c2.doors)\n",
    "print('c3:', c3.doors)"
   ]
  },
  {
   "cell_type": "code",
   "execution_count": 59,
   "metadata": {},
   "outputs": [
    {
     "data": {
      "text/plain": [
       "6"
      ]
     },
     "execution_count": 59,
     "metadata": {},
     "output_type": "execute_result"
    }
   ],
   "source": [
    "c1.doors = 6\n",
    "c1.doors"
   ]
  },
  {
   "cell_type": "code",
   "execution_count": 60,
   "metadata": {},
   "outputs": [
    {
     "data": {
      "text/plain": [
       "2"
      ]
     },
     "execution_count": 60,
     "metadata": {},
     "output_type": "execute_result"
    }
   ],
   "source": [
    "c2.doors"
   ]
  },
  {
   "cell_type": "markdown",
   "metadata": {},
   "source": [
    "#### Subclassing "
   ]
  },
  {
   "cell_type": "code",
   "execution_count": 61,
   "metadata": {},
   "outputs": [],
   "source": [
    "import random\n",
    "\n",
    "class Car:\n",
    "    doors = 4\n",
    "    \n",
    "    def __init__(self):\n",
    "        self.gas = 0\n",
    "    \n",
    "    # ...\n",
    "    def go(self):\n",
    "        return random.randint(1, 10)\n",
    "\n",
    "# Sedan inherits all functional and data attributes from Car.\n",
    "class Sedan(Car): \n",
    "    pass  # No changes from basic Car\n",
    "\n",
    "# Sedan inherits all functional and data attributes from Car.\n",
    "class Coupé(Car):\n",
    "    doors = 2  # Coupé overrides Car's door count to set its own"
   ]
  },
  {
   "cell_type": "code",
   "execution_count": 62,
   "metadata": {},
   "outputs": [
    {
     "data": {
      "text/plain": [
       "{'gas'}"
      ]
     },
     "execution_count": 62,
     "metadata": {},
     "output_type": "execute_result"
    }
   ],
   "source": [
    "set(dir(Car())) - set(dir(Car))  # Instance level attributes"
   ]
  },
  {
   "cell_type": "code",
   "execution_count": 63,
   "metadata": {},
   "outputs": [
    {
     "name": "stdout",
     "output_type": "stream",
     "text": [
      "4\n",
      "3\n"
     ]
    }
   ],
   "source": [
    "s = Sedan()\n",
    "print(s.doors)\n",
    "print(s.go())"
   ]
  },
  {
   "cell_type": "code",
   "execution_count": 64,
   "metadata": {},
   "outputs": [
    {
     "name": "stdout",
     "output_type": "stream",
     "text": [
      "2\n",
      "9\n"
     ]
    }
   ],
   "source": [
    "c = Coupé()\n",
    "print(c.doors)\n",
    "print(c.go())"
   ]
  },
  {
   "cell_type": "code",
   "execution_count": 65,
   "metadata": {},
   "outputs": [],
   "source": [
    "class Car:    \n",
    "    def honk(self):\n",
    "        return 'Honk'\n",
    "    \n",
    "class Coupé(Car):\n",
    "    def honk(self):\n",
    "        # https://www.youtube.com/watch?v=Dqc6yRIHiW0\n",
    "        return 'Ahooga'"
   ]
  },
  {
   "cell_type": "code",
   "execution_count": null,
   "metadata": {},
   "outputs": [],
   "source": [
    "class Coupé(Car):\n",
    "    def honk(self):\n",
    "        return_value = super().honk()\n",
    "        return return_value + ' Ahooga'"
   ]
  },
  {
   "cell_type": "code",
   "execution_count": 66,
   "metadata": {},
   "outputs": [
    {
     "data": {
      "text/plain": [
       "'Honk'"
      ]
     },
     "execution_count": 66,
     "metadata": {},
     "output_type": "execute_result"
    }
   ],
   "source": [
    "Car().honk()"
   ]
  },
  {
   "cell_type": "code",
   "execution_count": 67,
   "metadata": {},
   "outputs": [
    {
     "data": {
      "text/plain": [
       "'Ahooga'"
      ]
     },
     "execution_count": 67,
     "metadata": {},
     "output_type": "execute_result"
    }
   ],
   "source": [
    "Coupé().honk()"
   ]
  },
  {
   "cell_type": "code",
   "execution_count": null,
   "metadata": {},
   "outputs": [],
   "source": [
    "class Vehicle:\n",
    "    def go(self):\n",
    "        return 'drive!!!!'\n",
    "\n",
    "class Car:\n",
    "    def honk(self):\n",
    "        return 'Honk'\n",
    "    \n",
    "    \n",
    "# class MotherThersea:\n",
    "#     def honk(self):\n",
    "#         return 'Bless your soul'\n",
    "\n",
    "class RandomDude:\n",
    "    pass\n",
    "    \n",
    "class Coupé(Vehicle):\n",
    "    def honk(self):\n",
    "        parent_result = super().honk()\n",
    "        return parent_result + ' ' + parent_result\n",
    "    \n",
    "    \n",
    "Coupé().honk()"
   ]
  },
  {
   "cell_type": "code",
   "execution_count": null,
   "metadata": {},
   "outputs": [],
   "source": [
    "class Company:\n",
    "    def __init__(self, parent=None):\n",
    "        self.balance_sheet = 1234567890\n",
    "        self.debt = 1000\n",
    "        self.equity = 1500\n",
    "        self.parent = parent\n",
    "        \n",
    "    def pay_back_debt(self, value):\n",
    "        self.debt = self.debt - value\n",
    "\n",
    "\n",
    "class Subsidiary(Company):\n",
    "    def __init__(self, parent):\n",
    "        super().__init__()\n",
    "        self.parent = parent"
   ]
  },
  {
   "cell_type": "code",
   "execution_count": null,
   "metadata": {},
   "outputs": [],
   "source": [
    "c = Company()\n",
    "c.pay_back_debt(400)\n",
    "c.debt"
   ]
  },
  {
   "cell_type": "code",
   "execution_count": null,
   "metadata": {},
   "outputs": [],
   "source": [
    "c.parent"
   ]
  },
  {
   "cell_type": "code",
   "execution_count": null,
   "metadata": {},
   "outputs": [],
   "source": [
    "s = Subsidiary(c)"
   ]
  },
  {
   "cell_type": "code",
   "execution_count": null,
   "metadata": {},
   "outputs": [],
   "source": [
    "s.pay_back_debt(350)\n",
    "s.debt"
   ]
  },
  {
   "cell_type": "code",
   "execution_count": null,
   "metadata": {},
   "outputs": [],
   "source": [
    "s.parent"
   ]
  },
  {
   "cell_type": "markdown",
   "metadata": {},
   "source": [
    "##### Exercises\n",
    "\n",
    "1. Create an Animal class. The initializer should take an age and save it to the instance. The Animal initializer should raise a `ValueError` if it is given a negative age. \n",
    "2. Create a Human class that subclasses Animal. Raise a `ValueError` if a Human object is created with an age greater than 150."
   ]
  },
  {
   "cell_type": "code",
   "execution_count": null,
   "metadata": {},
   "outputs": [],
   "source": [
    "### Strip for lecture\n",
    "class Animal:\n",
    "    limbs = 4\n",
    "\n",
    "    def __init__(self, name, age):\n",
    "        self.name = name\n",
    "        self.age = age\n",
    "    \n",
    "    @property\n",
    "    def age(self):\n",
    "        return self._age\n",
    "\n",
    "    @age.setter\n",
    "    def age(self, value):\n",
    "        if value < 0:\n",
    "            raise ValueError(f'Age too low: {value}')\n",
    "        \n",
    "        self._age = value\n",
    "    \n",
    "# Animal('Paul', 10)\n",
    "# Animal('Paul', -10)"
   ]
  },
  {
   "cell_type": "code",
   "execution_count": null,
   "metadata": {},
   "outputs": [],
   "source": [
    "### Strip for lecture\n",
    "class Human(Animal):\n",
    "    # Have to update both properties \n",
    "    \n",
    "    @property\n",
    "    def age(self):\n",
    "        return self._age\n",
    "\n",
    "    @age.setter\n",
    "    def age(self, value):\n",
    "        if value < 0:\n",
    "            raise ValueError(f'Age too low: {value}')\n",
    "        \n",
    "        if value > 150:\n",
    "            raise ValueError(f'Age too high: {value}')            \n",
    "\n",
    "        self._age = value\n",
    "\n",
    "h = Human('Paul', 10)\n",
    "h.limbs"
   ]
  },
  {
   "cell_type": "markdown",
   "metadata": {},
   "source": [
    "#### Four Pillars of Object Oriented Programming \n",
    "1. Abstraction\n",
    "    - User interact with only the data and methods they need. Everything else is hidden.\n",
    "1. Encapsulation\n",
    "    - Data and functions that operate on the data live together,\n",
    "1. Inheritance\n",
    "    - Creating new blue prints from previous one and only overriding what needs to change.\n",
    "1. Polymorphism\n",
    "    - Objects can share method names with objects of separate classes and act like those classes.\n",
    "    Think Car().honk() vs Coupé().honk()"
   ]
  }
 ],
 "metadata": {
  "anaconda-cloud": {},
  "kernelspec": {
   "display_name": "Python 3",
   "language": "python",
   "name": "python3"
  },
  "language_info": {
   "codemirror_mode": {
    "name": "ipython",
    "version": 3
   },
   "file_extension": ".py",
   "mimetype": "text/x-python",
   "name": "python",
   "nbconvert_exporter": "python",
   "pygments_lexer": "ipython3",
   "version": "3.9.4"
  }
 },
 "nbformat": 4,
 "nbformat_minor": 2
}
